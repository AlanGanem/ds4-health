{
 "cells": [
  {
   "cell_type": "markdown",
   "id": "7a63241e-3862-4149-b571-c61a3c05bed4",
   "metadata": {},
   "source": [
    "# Imports"
   ]
  },
  {
   "cell_type": "code",
   "execution_count": null,
   "id": "647e093e-74dc-418a-9cc4-c8d9743580e4",
   "metadata": {},
   "outputs": [],
   "source": [
    "from sklearn.preprocessing import (FunctionTransformer, \n",
    "                                   QuantileTransformer,\n",
    "                                   MinMaxScaler,\n",
    "                                   RobustScaler,\n",
    "                                   StandardScaler,\n",
    "                                   KBinsDiscretizer,\n",
    "                                  )\n",
    "\n"
   ]
  },
  {
   "cell_type": "code",
   "execution_count": null,
   "id": "3ba80bf8-bf1e-4119-b410-9a1600f33155",
   "metadata": {
    "ExecuteTime": {
     "end_time": "2020-04-06T23:32:53.051886Z",
     "start_time": "2020-04-06T23:32:52.017274Z"
    },
    "id": "6e1D15R3kIsX"
   },
   "outputs": [],
   "source": [
    "%matplotlib inline\n",
    "from pathlib import Path\n",
    "import numpy as np\n",
    "import matplotlib.image as mpimg\n",
    "import matplotlib.pyplot as plt\n",
    "from PIL import Image\n",
    "import PIL\n",
    "import cv2\n",
    "import seaborn as sns\n",
    "from scipy import stats\n",
    "from sklearn.preprocessing import KBinsDiscretizer, minmax_scale\n",
    "\n",
    "\n",
    "import glob\n",
    "\n",
    "from keras.applications import Xception\n",
    "from keras.applications.xception import preprocess_input\n",
    "\n",
    "\n",
    "plt.rcParams[\"axes.facecolor\"] = \"white\"\n",
    "plt.rcParams[\"savefig.facecolor\"] = \"white\"\n",
    "plt.rcParams[\"grid.alpha\"] = 1\n",
    "plt.rcParams[\"grid.color\"] = \"#CCCCCC\"\n"
   ]
  },
  {
   "cell_type": "markdown",
   "id": "68e68107-9f68-4334-b297-7185d5ae9760",
   "metadata": {},
   "source": [
    "# Carregar Imagens"
   ]
  },
  {
   "cell_type": "code",
   "execution_count": null,
   "id": "f1989c8d-7f8a-4f9d-9a24-21bfdaaff8bb",
   "metadata": {},
   "outputs": [],
   "source": [
    "def transform_image(arr, f, **kwargs):\n",
    "    arr = np.array(arr)\n",
    "    assert arr.ndim == 2\n",
    "    transformed_images = []\n",
    "    for i in range(arr.shape[1]):\n",
    "        \n",
    "        transformed_images_i = []\n",
    "        \n",
    "        for image in arr[:,i]:\n",
    "            image_shape = image.shape\n",
    "            transformed = f(image.flatten(), **kwargs)            \n",
    "            #shape preserving tranfsormation\n",
    "            if isinstance(transformed, np.ndarray):\n",
    "                if np.prod(transformed.shape) == np.prod(image_shape):\n",
    "                    transformed = transformed.reshape(image_shape)\n",
    "                else:\n",
    "                    pass\n",
    "            \n",
    "            transformed_images_i.append(transformed)\n",
    "        \n",
    "        transformed_images.append(transformed_images_i)\n",
    "    \n",
    "    images = np.array(transformed_images).T\n",
    "    return images\n",
    "\n",
    "class ImageTransformer(FunctionTransformer):\n",
    "    def __init__(self, function):\n",
    "        self.function = function\n",
    "        super().__init__(lambda x: transform_image(x, function))"
   ]
  },
  {
   "cell_type": "code",
   "execution_count": null,
   "id": "20421fe9-a44a-4748-ba2a-e2f77cc4ab9f",
   "metadata": {},
   "outputs": [],
   "source": [
    "def get_histogram_stat(img, stat = np.mean):    \n",
    "    #assert is black and white and 2d\n",
    "    assert img.ndim == 2\n",
    "    return stat(img)\n",
    "\n",
    "def to_black_and_white(img, dtype = np.int16, asarray = True, normalize_range = (0,255)):\n",
    "    \"\"\"\n",
    "    transforms the image to black and white one, with 2 channels only.\n",
    "    its possible to normalize and cast, if an array is returned\n",
    "    \"\"\"\n",
    "    if isinstance(img, PIL.BmpImagePlugin.BmpImageFile):\n",
    "        arr = np.array(img.convert('L'))\n",
    "    else:\n",
    "        arr = img\n",
    "    \n",
    "    if normalize_range is None:\n",
    "        arr = arr.astype(dtype)\n",
    "    else:\n",
    "        arr =  minmax_scale(arr, normalize_range, axis = None).astype(dtype)\n",
    "        \n",
    "    if asarray:\n",
    "        return arr\n",
    "    else:\n",
    "        return Image.fromarray(arr)\n",
    "        \n",
    "\n",
    "def get_histogram_stat_vector(images, stat = np.mean, normalization_function = to_black_and_white):\n",
    "    \"\"\"\n",
    "    allows vectorized operations on ImageLoader instance or collection of images/np.arrays\n",
    "    \"\"\"\n",
    "    if isinstance(images, ImageLoader):\n",
    "        results = images.map(lambda img: stat(normalization_function(img)))\n",
    "    else:\n",
    "        results = list(map(lambda img: stat(normalization_function(img)), images))\n",
    "        \n",
    "    return results"
   ]
  },
  {
   "cell_type": "code",
   "execution_count": null,
   "id": "e487d34e-1710-4d1f-9d6b-e71bda624745",
   "metadata": {},
   "outputs": [],
   "source": [
    "from PIL import Image, ImageOps\n",
    "\n",
    "\n",
    "def padding(img, expected_size):\n",
    "    desired_size = expected_size\n",
    "    delta_width = desired_size - img.size[0]\n",
    "    delta_height = desired_size - img.size[1]\n",
    "    pad_width = delta_width // 2\n",
    "    pad_height = delta_height // 2\n",
    "    padding = (pad_width, pad_height, delta_width - pad_width, delta_height - pad_height)\n",
    "    return ImageOps.expand(img, padding)\n",
    "\n",
    "\n",
    "def resize_with_padding(img, expected_size):\n",
    "    img.thumbnail((expected_size[0], expected_size[1]))\n",
    "    # print(img.size)\n",
    "    delta_width = expected_size[0] - img.size[0]\n",
    "    delta_height = expected_size[1] - img.size[1]\n",
    "    pad_width = delta_width // 2\n",
    "    pad_height = delta_height // 2\n",
    "    padding = (pad_width, pad_height, delta_width - pad_width, delta_height - pad_height)\n",
    "    return ImageOps.expand(img, padding)\n",
    "\n",
    "\n",
    "def gray_to_rgb(img):\n",
    "    if img.ndim == 3:\n",
    "        img = img.reshape((*img.shape[:-1]))\n",
    "    \n",
    "    img2 = np.zeros( ( np.array(img).shape[0], np.array(img).shape[1], 3 ) )\n",
    "    img2[:,:,0] = img # same value in each channel\n",
    "    img2[:,:,1] = img\n",
    "    img2[:,:,2] = img\n",
    "    return img2"
   ]
  },
  {
   "cell_type": "code",
   "execution_count": null,
   "id": "3260ad57-33a1-4468-a152-b2d62218b46c",
   "metadata": {},
   "outputs": [],
   "source": [
    "class ImageLoader():\n",
    "    \"\"\"\n",
    "    loads images from path given a list of wildcards\n",
    "    \"\"\"\n",
    "    def __init__(self, root_dir, mask_extension = \".bmp\", image_extension = \".bmp\", load_masks = True):\n",
    "        self.load_masks = load_masks\n",
    "        \n",
    "        label_paths = Path(root_dir).iterdir()\n",
    "        #set labels based on parent folder\n",
    "        all_items = []\n",
    "        for label_path in label_paths:\n",
    "            label = str(label_path).split(\"/\")[-1]\n",
    "            if load_masks:\n",
    "                mask_paths = [str(i) for i in set(label_path.glob(\"*_mask*\"))]\n",
    "                image_paths = []\n",
    "                new_mask_paths = []\n",
    "                for i in range(len(mask_paths)):\n",
    "                    mask_path = mask_paths[i]\n",
    "                    im_paths = list(Path(label_path).rglob(\"*\" + mask_path.split(\"/\")[-1].split(\"_mask\")[0] +\"*\"))\n",
    "                    im_paths = [i for i in im_paths if not \"_mask\" in str(i)]\n",
    "                    if len(im_paths) > 0:\n",
    "\n",
    "                        new_mask_paths.append(mask_path)\n",
    "                        image_paths.append(str(im_paths[0]))\n",
    "                    else:\n",
    "                        pass\n",
    "                #\n",
    "                labels = [label]*len(image_paths)\n",
    "                items = list(zip(image_paths, new_mask_paths, labels))\n",
    "                all_items += items\n",
    "            else:\n",
    "                all_paths = [str(i) for i in label_path.rglob(\"*\")]                                \n",
    "                image_paths = [i for i in all_paths if not \"_mask\" in i]\n",
    "                mask_paths = [i for i in all_paths if \"_mask\" in i]\n",
    "                mask_prefix = [i.split(\"_mask\")[0] for i in mask_paths] \n",
    "                labels = [label]*len(image_paths)\n",
    "                has_mask = [i[:-4] in mask_prefix for i in image_paths]\n",
    "                items = list(zip(image_paths, has_mask, labels))\n",
    "                all_items += items\n",
    "                \n",
    "        \n",
    "        self.items = all_items\n",
    "        return\n",
    "        \n",
    "    def __len__(self):\n",
    "        return len(self.items)\n",
    "    def __getitem__(self, idx):\n",
    "        if self.load_masks:\n",
    "            return {\"image\":Image.open(self.items[idx][0]), \"mask\": Image.open(self.items[idx][1]), \"label\":self.items[idx][2]}        \n",
    "        else:\n",
    "            return {\"image\":Image.open(self.items[idx][0]), \"has_mask\":self.items[idx][1], \"label\":self.items[idx][2]}        \n",
    "    \n",
    "    def get_image_array(self, index, size = None, to_rgb = False, normalize = False, normalize_range = (0,255)):\n",
    "\n",
    "        image = Image.open(self.items[index][0])\n",
    "        if normalize:\n",
    "            image = np.array(image)\n",
    "            shape = image.shape\n",
    "            image = minmax_scale(image.ravel(), feature_range=normalize_range).reshape(shape)\n",
    "            image = Image.fromarray(image)\n",
    "        \n",
    "        if to_rgb:           \n",
    "            image = image.convert(\"RGB\")\n",
    "\n",
    "        if not size is None:\n",
    "            image = resize_with_padding(image, size)\n",
    "    \n",
    "        return np.array(image)\n",
    "    \n",
    "    def get_mask_array(self, index):\n",
    "        mask = Image.open(self.items[index][1])\n",
    "        mask_array = np.array(mask)\n",
    "        assert len(np.unique(mask_array.flatten())) <= 2, \"mask has more than two values\"\n",
    "        mask_array = (mask_array - mask_array.min())/(mask_array.max()-mask_array.min())\n",
    "        return mask_array.astype(bool)\n",
    "    \n",
    "    def get_label(self, index):\n",
    "        return self.items[index][2]\n",
    "    \n",
    "    def get_masked_image(self, index):\n",
    "        return np.where(self.get_mask_array(index), self.get_image_array(index), 0)\n",
    "    \n",
    "    def plot_masked_image(self, index, alpha = 0.5):\n",
    "        plt.imshow(self.get_image_array(index), cmap = \"gray\")\n",
    "        plt.imshow(self.get_masked_image(index), alpha = alpha, cmap = \"gray\")\n",
    "        return\n",
    "    \n",
    "    def get_masked_flat_image(self, index, return_index = False):\n",
    "        image_flat = self.get_image_array(index).flatten()\n",
    "        mask_flat = self.get_mask_array(index).flatten()        \n",
    "        image_flat = image_flat[mask_flat]\n",
    "        if not return_index:\n",
    "            return image_flat\n",
    "        else:\n",
    "            return image_flat, mask_flat.nonzero()[0]\n",
    "            \n",
    "    def get_image_id(self, index):\n",
    "        return self.items[index][0].split('/')[-1].split(\"_FLAIR\")[0]\n",
    "    \n",
    "    def get_flair_id(self, index):\n",
    "        return self.items[index][0].split('/')[-1].split(\"_FLAIR\")[-1].split('.')[0]\n",
    "    \n",
    "    def map(self, function, attribute = 'image'):\n",
    "        assert attribute in (None, \"image\",\"label\",\"mask\")\n",
    "        if not attribute is None:\n",
    "            vals = [i[attribute] for i in self]\n",
    "        else:\n",
    "            vals = [i for i in self]\n",
    "        \n",
    "        results = list(map(function, vals))\n",
    "        return results\n",
    "    \n",
    "    "
   ]
  },
  {
   "cell_type": "code",
   "execution_count": null,
   "id": "928cc115-6158-4b4f-989d-bc13d39dffe7",
   "metadata": {},
   "outputs": [],
   "source": [
    "loader = ImageLoader(\"../Train\", load_masks = False)\n",
    "loader_test = ImageLoader(\"../SLE/\", load_masks = False)"
   ]
  },
  {
   "cell_type": "code",
   "execution_count": null,
   "id": "1b887887-e5d0-47c1-8134-46cf1b61d7ba",
   "metadata": {},
   "outputs": [],
   "source": [
    "len(loader),len(loader_test)"
   ]
  },
  {
   "cell_type": "code",
   "execution_count": null,
   "id": "ee33a232-e376-49fd-9967-92c1f75af971",
   "metadata": {},
   "outputs": [],
   "source": [
    "#all(loader.map(lambda x: np.array(x).ndim == 2)), all(loader_test.map(lambda x: np.array(x).ndim == 2))"
   ]
  },
  {
   "cell_type": "code",
   "execution_count": null,
   "id": "a8e89b12-e1fb-4787-8da9-3f8462985fb7",
   "metadata": {},
   "outputs": [],
   "source": [
    "plt.imshow(loader_test.get_image_array(0, size = (512,512), to_rgb = True))\n",
    "loader_test.get_image_array(0, size = (512,512), to_rgb = True).shape"
   ]
  },
  {
   "cell_type": "code",
   "execution_count": null,
   "id": "f19e2e94-e814-4afa-83d3-12f84ed52aff",
   "metadata": {},
   "outputs": [],
   "source": [
    "#loader_test.plot_masked_image(100, alpha = 0.8)\n"
   ]
  },
  {
   "cell_type": "code",
   "execution_count": null,
   "id": "2d4df3ef-36b1-49be-a3c9-87a5c61857a4",
   "metadata": {},
   "outputs": [],
   "source": [
    "#loader.get_mask_array(212)"
   ]
  },
  {
   "cell_type": "markdown",
   "id": "292b136b-1161-4b4a-a531-2137a6ee1775",
   "metadata": {},
   "source": [
    "## Cria DataFrame com informações"
   ]
  },
  {
   "cell_type": "code",
   "execution_count": null,
   "id": "3d264552-dac4-4045-b697-c6713019724d",
   "metadata": {},
   "outputs": [],
   "source": [
    "ids_train = np.array([loader.get_image_id(i) for i in range(len(loader))])\n",
    "ids_test = np.array([loader_test.get_image_id(i) for i in range(len(loader_test))])\n",
    "ids_all = np.hstack([ids_train, ids_test])"
   ]
  },
  {
   "cell_type": "code",
   "execution_count": null,
   "id": "b8c49301-935f-43c8-b60d-afa6332af809",
   "metadata": {},
   "outputs": [],
   "source": [
    "flairs_train = np.array([loader.get_flair_id(i) for i in range(len(loader))])\n",
    "flairs_test = np.array([loader_test.get_flair_id(i) for i in range(len(loader_test))])\n",
    "flairs_all = np.hstack([flairs_train, flairs_test])"
   ]
  },
  {
   "cell_type": "code",
   "execution_count": null,
   "id": "50ca5dcf-c94a-4da6-ae90-de6b852c7444",
   "metadata": {},
   "outputs": [],
   "source": [
    "labels_train = np.array([i[\"label\"] for i in loader])\n",
    "labels_test = np.array([i[\"label\"] for i in loader_test])\n",
    "labels_all = np.hstack([labels_train, labels_test])"
   ]
  },
  {
   "cell_type": "code",
   "execution_count": null,
   "id": "e226e107-2951-4e1c-b300-206e071c2e8c",
   "metadata": {},
   "outputs": [],
   "source": [
    "has_mask_train = np.array([i[\"has_mask\"] for i in loader])\n",
    "has_mask_test = np.array([i[\"has_mask\"] for i in loader_test])\n",
    "has_mask_all = np.hstack([has_mask_train, has_mask_test])"
   ]
  },
  {
   "cell_type": "code",
   "execution_count": null,
   "id": "d7562a12-6158-43ae-9ebb-a24fa5efedb7",
   "metadata": {},
   "outputs": [],
   "source": [
    "import pandas as pd\n",
    "id_df = pd.DataFrame(ids_all, columns = [\"id\"])\n",
    "id_df[\"flair\"] = flairs_all.astype(int)\n",
    "id_df[\"label\"] = labels_all\n",
    "id_df[\"has_mask\"] = has_mask_all"
   ]
  },
  {
   "cell_type": "code",
   "execution_count": null,
   "id": "691cd2dc-5318-4c57-94d2-ca5445029ca6",
   "metadata": {},
   "outputs": [],
   "source": [
    "id_df[\"has_mask\"].mean()"
   ]
  },
  {
   "cell_type": "code",
   "execution_count": null,
   "id": "c5772727-5e30-4c66-98ad-b8da112e8969",
   "metadata": {},
   "outputs": [],
   "source": [
    "id_df.groupby([\"label\",\"flair\"])[[\"has_mask\"]].mean()"
   ]
  },
  {
   "cell_type": "markdown",
   "id": "11693efc-8d61-4801-a36a-119efa866af9",
   "metadata": {},
   "source": [
    "# Extrai Atributos"
   ]
  },
  {
   "cell_type": "code",
   "execution_count": null,
   "id": "559844f1-2303-4ff1-b78c-ea4f4ccbb71d",
   "metadata": {},
   "outputs": [],
   "source": [
    "from keras.applications import EfficientNetV2S"
   ]
  },
  {
   "cell_type": "code",
   "execution_count": null,
   "id": "0ad55d35-74f4-43a5-95da-475ea16d36c1",
   "metadata": {},
   "outputs": [],
   "source": [
    "from tensorflow.keras.preprocessing import image\n",
    "import tensorflow as tf"
   ]
  },
  {
   "cell_type": "code",
   "execution_count": null,
   "id": "01740f9c-ea49-4026-85d2-bf617bd503b9",
   "metadata": {},
   "outputs": [],
   "source": [
    "image_size = (299,299)\n",
    "pixel_range = (0,255)"
   ]
  },
  {
   "cell_type": "code",
   "execution_count": null,
   "id": "a7eab836-633e-409d-b83d-54ec2def5630",
   "metadata": {},
   "outputs": [],
   "source": [
    "feature_extractor = EfficientNetV2S(\n",
    "    include_top=False,\n",
    "    weights=\"imagenet\",\n",
    "    input_tensor=None,\n",
    "    input_shape=(*image_size,3),\n",
    "    pooling=\"max\",\n",
    "    #classes=1000,\n",
    "    #classifier_activation=\"softmax\",\n",
    "    include_preprocessing=True,\n",
    ")"
   ]
  },
  {
   "cell_type": "code",
   "execution_count": null,
   "id": "df4b41cf-df30-4f36-ae54-062b5d6177cf",
   "metadata": {},
   "outputs": [],
   "source": [
    "images_train = [\n",
    "    loader.get_image_array(\n",
    "        i,\n",
    "        image_size,\n",
    "        to_rgb = True,\n",
    "        normalize = True,\n",
    "        normalize_range=pixel_range\n",
    "    ) for i in range(len(loader))\n",
    "]"
   ]
  },
  {
   "cell_type": "code",
   "execution_count": null,
   "id": "ef5f327d-e1de-448a-80f8-bd9f6ab3a4bd",
   "metadata": {},
   "outputs": [],
   "source": [
    "images_test = [\n",
    "    loader_test.get_image_array(\n",
    "        i,\n",
    "        image_size,\n",
    "        to_rgb = True,\n",
    "        normalize = True,\n",
    "        normalize_range=pixel_range\n",
    "    ) for i in range(len(loader_test))\n",
    "]"
   ]
  },
  {
   "cell_type": "code",
   "execution_count": null,
   "id": "3d3ece0c-7ea9-4303-973c-806ffc236b45",
   "metadata": {},
   "outputs": [],
   "source": [
    "images_train = np.array(images_train)"
   ]
  },
  {
   "cell_type": "code",
   "execution_count": null,
   "id": "56ea6524-d81b-4ed7-9a37-fccac920b34f",
   "metadata": {},
   "outputs": [],
   "source": [
    "images_test = np.array(images_test)"
   ]
  },
  {
   "cell_type": "code",
   "execution_count": null,
   "id": "15c5c241-2388-403e-9d05-0b9644457fef",
   "metadata": {},
   "outputs": [],
   "source": [
    "features_train = feature_extractor.predict(images_train)"
   ]
  },
  {
   "cell_type": "code",
   "execution_count": null,
   "id": "ce9fe683-6ce9-470d-bb8b-6cc61f066804",
   "metadata": {},
   "outputs": [],
   "source": [
    "features_test = feature_extractor.predict(images_test)"
   ]
  },
  {
   "cell_type": "markdown",
   "id": "161279c1-4109-48cc-8682-e3b9a241b099",
   "metadata": {},
   "source": [
    "# Plot do manifold (espaço reduzido) de atributos"
   ]
  },
  {
   "cell_type": "markdown",
   "id": "ab5ba0f9-9cef-4aef-a4c1-95fd7685bad3",
   "metadata": {},
   "source": [
    "## Completamente não supervisionado\n",
    "* é possível ver que de forma completamente não supervisionada, as features extraidas são muito competentes em separar as classes\n",
    "* é possível ver que os casos de SLE são mais parecidos com casos de AVC, ainda que existam alguns casos que se afastam do padrão, na região populada apenas por SLE"
   ]
  },
  {
   "cell_type": "markdown",
   "id": "dddc2ec6-97c9-48b8-808f-ebceae12b49b",
   "metadata": {},
   "source": [
    "## Checa viés de flair\n",
    "\n",
    "Checamos aqui se alguma classe possui uma probabilidade maior para flairs específicos. Isso pode fazer com que o modelo aprenda a discriminar a classe baseando-se no flair, o que pode ser ruim para seu poder de generalização.\n",
    "\n",
    "Foi observado que para EM, os flairs são maiores enquanto os flairs para AVC e SLE possuem distribuição semelhante. Esse viés provavelmente ocorre no momento da coleta dos dados, em que o responsável pela imagem limita os flairs de acordo com o flair anterior"
   ]
  },
  {
   "cell_type": "code",
   "execution_count": null,
   "id": "f70142a0-2b17-42f0-8a87-17cb2a1332e9",
   "metadata": {},
   "outputs": [],
   "source": [
    "#checa viés de flair\n",
    "id_df.query('label != \"Test\" and has_mask == True').groupby(\"label\").apply(lambda x: sns.distplot(x[\"flair\"], label = x[\"label\"].iloc[0]))\n",
    "plt.legend()\n",
    "plt.title(\"distribuição de flairs por label\")\n",
    "plt.savefig(\"./images/vies_de_flair.png\", bbox_inches= \"tight\")"
   ]
  },
  {
   "cell_type": "code",
   "execution_count": null,
   "id": "993a346e-ac08-4c10-b36c-e1677b70348a",
   "metadata": {},
   "outputs": [],
   "source": [
    "#checa viés de flair\n",
    "id_df.query('label != \"Test\"').groupby(\"label\").apply(lambda x: sns.distplot(x[\"flair\"], label = x[\"label\"].iloc[0]))\n",
    "plt.legend()\n",
    "plt.title(\"distribuição de flairs por label\")\n",
    "plt.savefig(\"./images/vies_de_flair_sem_mascara.png\", bbox_inches= \"tight\")"
   ]
  },
  {
   "cell_type": "code",
   "execution_count": null,
   "id": "44fef959-1d36-4fc2-9669-ea3e9f069e74",
   "metadata": {},
   "outputs": [],
   "source": [
    "import umap\n",
    "from sklearn.decomposition import PCA"
   ]
  },
  {
   "cell_type": "code",
   "execution_count": null,
   "id": "c9df81d2-8d80-444b-b6db-f3348ecf0d9b",
   "metadata": {},
   "outputs": [],
   "source": [
    "reducer = umap.UMAP()"
   ]
  },
  {
   "cell_type": "code",
   "execution_count": null,
   "id": "36d63eef-ad33-4b67-ab0b-0da7ca1cc04d",
   "metadata": {},
   "outputs": [],
   "source": [
    "features_all = np.vstack([features_train, features_test])\n",
    "labels_all = np.hstack([labels_train, labels_test])"
   ]
  },
  {
   "cell_type": "code",
   "execution_count": null,
   "id": "ccf0d805-2c5d-4aa9-944d-8e73a309694f",
   "metadata": {},
   "outputs": [],
   "source": [
    "embs = reducer.fit_transform(features_all)"
   ]
  },
  {
   "cell_type": "code",
   "execution_count": null,
   "id": "a6886c4e-c1c0-4f20-84d9-adb4ecde735b",
   "metadata": {},
   "outputs": [],
   "source": [
    "pcs = PCA().fit_transform(features_all)"
   ]
  },
  {
   "cell_type": "markdown",
   "id": "0d2c4099-dc61-4351-a29a-2d6cf4a3f91a",
   "metadata": {},
   "source": [
    "### Por label"
   ]
  },
  {
   "cell_type": "code",
   "execution_count": null,
   "id": "d90bbd3d-f8cb-4998-8588-e392540f27af",
   "metadata": {},
   "outputs": [],
   "source": [
    "import plotly.express as px"
   ]
  },
  {
   "cell_type": "code",
   "execution_count": null,
   "id": "e481ab52-9b76-4e9a-8e48-fbdf55f8c928",
   "metadata": {},
   "outputs": [],
   "source": [
    "#px.scatter(x = embs[:,0], y = embs[:,1], color = id_df[\"label\"])"
   ]
  },
  {
   "cell_type": "markdown",
   "id": "906a8966-5f47-48e8-a4f6-11239b968445",
   "metadata": {},
   "source": [
    "### Por flair\n",
    "\n",
    "é possível ver que as features extraídas também são capazes de segmentar as flairs por similridade"
   ]
  },
  {
   "cell_type": "code",
   "execution_count": null,
   "id": "8669849a-9bc0-4bb8-b26f-08557db9bac0",
   "metadata": {},
   "outputs": [],
   "source": [
    "id_df['umap0'] = embs[:,0] \n",
    "id_df['umap1'] = embs[:,1] \n",
    "\n",
    "id_df['pca0'] = pcs[:,0] \n",
    "id_df['pca1'] = pcs[:,1] "
   ]
  },
  {
   "cell_type": "code",
   "execution_count": null,
   "id": "a6a27779-ab8c-431c-8ae1-dbb9c14071b0",
   "metadata": {},
   "outputs": [],
   "source": [
    "sns.scatterplot(x = id_df[\"umap0\"], y = id_df[\"umap1\"], hue = id_df[\"has_mask\"], style = id_df[\"label\"],)\n",
    "plt.subplots_adjust(-1,-1)\n",
    "plt.title(\"Projeção de UMAP para espaço de features\")\n",
    "plt.savefig(\"./images/umap_hasmask.png\",bbox_inches = \"tight\", dpi = 50)"
   ]
  },
  {
   "cell_type": "code",
   "execution_count": null,
   "id": "942ab6fc-c99d-490b-afd7-857f9f387851",
   "metadata": {},
   "outputs": [],
   "source": [
    "sns.scatterplot(x = id_df[\"umap0\"], y = id_df[\"umap1\"], hue = id_df[\"flair\"], style = id_df[\"label\"],)\n",
    "plt.subplots_adjust(-1,-1)\n",
    "plt.title(\"Projeção de UMAP para espaço de features\")\n",
    "plt.savefig(\"./images/umap_flair.png\",bbox_inches = \"tight\", dpi = 50)"
   ]
  },
  {
   "cell_type": "code",
   "execution_count": null,
   "id": "27008228-191b-41cd-8616-949f64075665",
   "metadata": {},
   "outputs": [],
   "source": [
    "sns.scatterplot(x = id_df[\"umap0\"], y = id_df[\"umap1\"], hue = id_df[\"label\"], style = id_df[\"has_mask\"],)\n",
    "plt.subplots_adjust(-1,-1)\n",
    "plt.title(\"Projeção de UMAP para espaço de features\")\n",
    "plt.savefig(\"./images/umap_label.png\",bbox_inches = \"tight\",dpi = 50)"
   ]
  },
  {
   "cell_type": "code",
   "execution_count": null,
   "id": "23bf4843-9a46-4bc2-8334-709486b87628",
   "metadata": {},
   "outputs": [],
   "source": [
    "d = id_df.query(\"has_mask == True\")\n",
    "sns.scatterplot(x = d[\"umap0\"], y = d[\"umap1\"], hue = d[\"label\"], style = d[\"has_mask\"],)\n",
    "plt.subplots_adjust(-1,-1)\n",
    "plt.title(\"Projeção de UMAP para espaço de features\")\n",
    "plt.savefig(\"./images/umap_label_mask_only.png\",bbox_inches = \"tight\",dpi = 50)"
   ]
  },
  {
   "cell_type": "code",
   "execution_count": null,
   "id": "39c9189f-b6a8-480e-a160-f4da0b145a65",
   "metadata": {},
   "outputs": [],
   "source": [
    "d = id_df.query(\"has_mask == False\")\n",
    "sns.scatterplot(x = d[\"umap0\"], y = d[\"umap1\"], hue = d[\"label\"], style = d[\"has_mask\"],)\n",
    "plt.subplots_adjust(-1,-1)\n",
    "plt.title(\"Projeção de UMAP para espaço de features\")\n",
    "plt.savefig(\"./images/umap_label_no_mask_only.png\",bbox_inches = \"tight\",dpi = 50)"
   ]
  },
  {
   "cell_type": "markdown",
   "id": "99f921c5-7596-4d2e-abe2-e905b8c00e99",
   "metadata": {},
   "source": [
    "## Espaço escalado por estimator Lasso para reforçar esparsidade\n",
    "\n",
    "é possível ver que a separação é ainda mais forte"
   ]
  },
  {
   "cell_type": "code",
   "execution_count": null,
   "id": "9ee663eb-39ec-4874-9ad5-323d31ddef43",
   "metadata": {},
   "outputs": [],
   "source": [
    "from sklearn.linear_model import LogisticRegression\n",
    "from sklearn.base import TransformerMixin, BaseEstimator\n",
    "from sklearn.model_selection import cross_val_predict, cross_val_score"
   ]
  },
  {
   "cell_type": "code",
   "execution_count": null,
   "id": "485f0aed-3fd4-478b-9212-4f0f85d3b4f7",
   "metadata": {},
   "outputs": [],
   "source": [
    "from sklearn.metrics import auc, roc_auc_score, roc_curve, classification_report"
   ]
  },
  {
   "cell_type": "code",
   "execution_count": null,
   "id": "0a3061af-edc0-4e69-af32-9661a75739d5",
   "metadata": {},
   "outputs": [],
   "source": [
    "class LinearScaledEmbeddings(TransformerMixin, BaseEstimator):\n",
    "    \n",
    "    def __init__(self, estimator):\n",
    "        self.estimator = estimator\n",
    "    \n",
    "    def fit(self, X, y = None,**kwawrgs):\n",
    "        \n",
    "        self.scaler = QuantileTransformer().fit(X)\n",
    "        X = self.scaler.transform(X)\n",
    "        self.estimator.fit(X, y,**kwawrgs)\n",
    "        return self\n",
    "    \n",
    "    def transform(self, X, **umap_kwargs):\n",
    "        #X = self.scaler.transform(X)\n",
    "        X = self.estimator.coef_*X\n",
    "        X = umap.UMAP(**umap_kwargs).fit_transform(X)\n",
    "        return X"
   ]
  },
  {
   "cell_type": "code",
   "execution_count": null,
   "id": "333b0c0b-e737-4a50-b01a-90ca279cb9f2",
   "metadata": {},
   "outputs": [],
   "source": [
    "sle_mask = pd.Series(labels_all).isin([\"AVC\", \"SLE\"]).values\n",
    "features_sle = features_all[sle_mask]\n",
    "labels_sle = labels_all[sle_mask]"
   ]
  },
  {
   "cell_type": "code",
   "execution_count": null,
   "id": "81908905-66d5-4acf-afd1-11bc7440d9d5",
   "metadata": {},
   "outputs": [],
   "source": [
    "estimator = LogisticRegression(penalty = 'l1', solver = \"saga\", )\n",
    "scaler = LinearScaledEmbeddings(estimator).fit(features_sle, labels_sle)"
   ]
  },
  {
   "cell_type": "code",
   "execution_count": null,
   "id": "f1cceee7-af4e-4f31-afa7-9e4e87aa5d9c",
   "metadata": {},
   "outputs": [],
   "source": [
    "from sklearn.pipeline import make_pipeline\n",
    "\n",
    "lasso_preds = cross_val_predict(make_pipeline(QuantileTransformer(), estimator), features_sle, labels_sle, method = \"predict_proba\")"
   ]
  },
  {
   "cell_type": "code",
   "execution_count": null,
   "id": "d3d24d8a-9355-47c4-b0b7-e20bc4f568c3",
   "metadata": {},
   "outputs": [],
   "source": [
    "roc_auc_score(labels_sle, lasso_preds[:,1], labels = scaler.estimator.classes_)"
   ]
  },
  {
   "cell_type": "code",
   "execution_count": null,
   "id": "2b696395-fafa-4a64-a609-606608e42c2a",
   "metadata": {},
   "outputs": [],
   "source": [
    "id_df[\"lasso_proba_max\"] = scaler.estimator.predict_proba(features_all)[:,1]"
   ]
  },
  {
   "cell_type": "code",
   "execution_count": null,
   "id": "e30b2c83-5f06-4f52-b0bd-b64b32dd718d",
   "metadata": {},
   "outputs": [],
   "source": [
    "d = id_df.query(\"label in ('SLE','AVC')\")\n",
    "sns.jointplot(d[\"lasso_proba_max\"], d[\"flair\"].astype(int), alpha = 0.2, hue = d[\"label\"], style = d[\"has_mask\"])\n",
    "\n",
    "plt.title(\"\")"
   ]
  },
  {
   "cell_type": "code",
   "execution_count": null,
   "id": "47795d8c-b1c7-40b7-a985-a5a61bf31a92",
   "metadata": {},
   "outputs": [],
   "source": [
    "lasso_embs = scaler.transform(features_all)"
   ]
  },
  {
   "cell_type": "code",
   "execution_count": null,
   "id": "266239df-cf25-4c23-bbf2-c1aff3c4e360",
   "metadata": {},
   "outputs": [],
   "source": [
    "id_df['lasso0'] = lasso_embs[:,0]\n",
    "id_df['lasso1'] = lasso_embs[:,1]"
   ]
  },
  {
   "cell_type": "code",
   "execution_count": null,
   "id": "8e758914-1266-43ea-bd87-25400ad88130",
   "metadata": {},
   "outputs": [],
   "source": [
    "sns.distplot(scaler.estimator.coef_.flatten())\n",
    "plt.title(\"Distribuição de coeficientes Lasso\")\n",
    "plt.savefig(\"./images/dist_lasso.png\",bbox_inches = \"tight\")"
   ]
  },
  {
   "cell_type": "code",
   "execution_count": null,
   "id": "d46a850f-0672-4147-95f4-eff00ebe84a5",
   "metadata": {},
   "outputs": [],
   "source": [
    "d = id_df#.query(\"has_mask == False\")\n",
    "sns.scatterplot(x = d[\"lasso0\"], y = d[\"lasso1\"], hue = d[\"label\"], style = d[\"has_mask\"],)\n",
    "plt.subplots_adjust(-1,-1)\n",
    "plt.title(\"Projeção de UMAP-LASSO para espaço de features\")\n",
    "plt.savefig(\"./images/lasso_label_only.png\",bbox_inches = \"tight\")"
   ]
  },
  {
   "cell_type": "code",
   "execution_count": null,
   "id": "5f05e0ea-a546-448d-9a82-1a9c3b94c815",
   "metadata": {},
   "outputs": [],
   "source": [
    "d = id_df.query(\"has_mask == True\")\n",
    "sns.scatterplot(x = d[\"lasso0\"], y = d[\"lasso1\"], hue = d[\"label\"], size = d[\"flair\"], alpha = 0.8)\n",
    "plt.subplots_adjust(-1,-1)\n",
    "plt.title(\"Projeção de UMAP para espaço de features\")\n",
    "plt.savefig(\"./images/umap_label_mask_only.png\",bbox_inches = \"tight\", dpi = 50)"
   ]
  },
  {
   "cell_type": "markdown",
   "id": "30a94d1a-1d91-440b-a000-0f57fb0134cc",
   "metadata": {},
   "source": [
    "## Treinar algoritmo KNN no espaço UMAP"
   ]
  },
  {
   "cell_type": "code",
   "execution_count": null,
   "id": "ab1c6893-1abe-4fe3-9edd-5ca4e48e28e3",
   "metadata": {},
   "outputs": [],
   "source": []
  },
  {
   "cell_type": "code",
   "execution_count": null,
   "id": "2afc941b-d533-44bc-879c-788b4498f112",
   "metadata": {},
   "outputs": [],
   "source": [
    "from sklearn.neighbors import KNeighborsClassifier, NearestNeighbors"
   ]
  },
  {
   "cell_type": "code",
   "execution_count": null,
   "id": "fa607f2c-c1ac-49e3-920b-25cf2577199e",
   "metadata": {},
   "outputs": [],
   "source": [
    "knn = KNeighborsClassifier(n_neighbors=20, metric = \"minkowski\", p=2)"
   ]
  },
  {
   "cell_type": "code",
   "execution_count": null,
   "id": "9e1629f8-eee9-492a-be7c-51ba8f3d324a",
   "metadata": {},
   "outputs": [],
   "source": [
    "sle_mask = id_df[\"label\"].isin([\"AVC\", \"SLE\"]).values\n",
    "knn.fit(id_df[sle_mask][[\"lasso0\",\"lasso1\"]], id_df[sle_mask][\"label\"])"
   ]
  },
  {
   "cell_type": "code",
   "execution_count": null,
   "id": "ba451474-5e32-48e1-958a-5ca385ef9777",
   "metadata": {},
   "outputs": [],
   "source": [
    "knn_dist, knn_neighbors = knn.kneighbors(id_df[[\"lasso0\",\"lasso1\"]])"
   ]
  },
  {
   "cell_type": "code",
   "execution_count": null,
   "id": "596d4313-f258-4f92-9d14-44177046bb6b",
   "metadata": {},
   "outputs": [],
   "source": [
    "id_df[\"neighbors\"] = [i for i in knn_neighbors]\n",
    "id_df[\"distances\"] = [i for i in knn_dist]"
   ]
  },
  {
   "cell_type": "code",
   "execution_count": null,
   "id": "d4c241f3-a250-4349-bb52-a60791f0fa89",
   "metadata": {},
   "outputs": [],
   "source": [
    "knn.classes_"
   ]
  },
  {
   "cell_type": "code",
   "execution_count": null,
   "id": "e155de47-1595-4d27-899a-3519393200fd",
   "metadata": {},
   "outputs": [],
   "source": [
    "knn_preds = knn.predict_proba(id_df[[\"lasso0\",\"lasso1\"]])"
   ]
  },
  {
   "cell_type": "code",
   "execution_count": null,
   "id": "fb164e85-72cd-4619-b505-e29d8d571da0",
   "metadata": {},
   "outputs": [],
   "source": [
    "id_df[\"knn_proba\"] = knn_preds[:,0] #proba da classe AVC. quanto mais perto de 1, maior a chance de se tratar de uma etiologia isquemica\n",
    "id_df[\"pseudo_etiologia\"] = \"isquemica\"\n",
    "id_df.loc[id_df[\"knn_proba\"] == 0, \"pseudo_etiologia\"] = \"desmielinizante\""
   ]
  },
  {
   "cell_type": "code",
   "execution_count": null,
   "id": "8cbab806-4fa3-4ed5-bb73-d69a7dcaafbb",
   "metadata": {},
   "outputs": [],
   "source": [
    "d = id_df.query(\"has_mask == True\")\n",
    "sns.scatterplot(x = d[\"lasso0\"], y = d[\"lasso1\"], hue = d[\"label\"], style = d[\"pseudo_etiologia\"], alpha = 0.8, s = 200)\n",
    "plt.subplots_adjust(-1,-1)\n",
    "plt.title(\"Projeção de UMAP-Lasso para espaço de features com separação KNN\")\n",
    "plt.savefig(\"./images/lasso_label_mask_only_pseudo_etiologia.png\",bbox_inches = \"tight\",dpi = 50)"
   ]
  },
  {
   "cell_type": "code",
   "execution_count": null,
   "id": "4f0d5b39-19d0-4093-b99e-9a1ce90f49ef",
   "metadata": {},
   "outputs": [],
   "source": [
    "d = id_df\n",
    "sns.scatterplot(x = d[\"lasso0\"], y = d[\"lasso1\"], hue = d[\"knn_proba\"], alpha = 0.8, s = 200)\n",
    "plt.subplots_adjust(-1,-1)\n",
    "plt.title(\"Projeção de UMAP-Lasso para espaço de features com separação KNN\")\n",
    "plt.savefig(\"./images/lasso_knn_proba.png\",bbox_inches = \"tight\", dpi = 50)"
   ]
  },
  {
   "cell_type": "markdown",
   "id": "eb8bc7e5-648b-4b90-80a2-c89faa246d2b",
   "metadata": {},
   "source": [
    "### Análise agregando todas as image_ids\n",
    "é possível ver um corte em torno de 0.25"
   ]
  },
  {
   "cell_type": "code",
   "execution_count": null,
   "id": "8c13b215-fb1c-48c5-96b9-fdb0a95eaec5",
   "metadata": {},
   "outputs": [],
   "source": [
    "def agg_fu(df):\n",
    "    d ={}\n",
    "    d[\"lasso0\"] = df[\"lasso0\"].mean()\n",
    "    d[\"lasso1\"] = df[\"lasso1\"].mean()\n",
    "    d[\"knn_proba\"] = df[\"knn_proba\"].mean()\n",
    "    d[\"label\"] = df[\"label\"].iloc[0]\n",
    "    return pd.Series(d)\n",
    "\n",
    "d = (\n",
    "    id_df\n",
    "    .query(\"has_mask == True\")\n",
    "    .groupby(\"id\").apply(agg_fu)\n",
    ")\n",
    "\n",
    "plt.axvline(0.3, color = 'red', label = \"split de etiologia\", linestyle = '--')\n",
    "sns.kdeplot(d[\"knn_proba\"], hue = d[\"label\"], )\n",
    "sns.rugplot(d[\"knn_proba\"], hue = d[\"label\"])\n",
    "\n",
    "plt.title(\"Distribuição de probabilidade de KNN aagregado paciente\")\n",
    "plt.savefig(\"./images/knn_dist_threshold.png\",bbox_inches = \"tight\")"
   ]
  },
  {
   "cell_type": "code",
   "execution_count": null,
   "id": "a05b52c6-f1b8-47ff-9270-d5de14231626",
   "metadata": {},
   "outputs": [],
   "source": [
    "d[\"pseudo_etiologia\"] = \"isquemica\"\n",
    "d.loc[d[\"knn_proba\"] < 0.25, \"pseudo_etiologia\"] = \"desmielinizante\""
   ]
  },
  {
   "cell_type": "code",
   "execution_count": null,
   "id": "63963fc6-c283-41fc-8b58-5f60aa8fc89e",
   "metadata": {},
   "outputs": [],
   "source": [
    "sns.scatterplot(x = d[\"lasso0\"], y = d[\"lasso1\"], hue = d[\"label\"], style = d[\"pseudo_etiologia\"], alpha = 0.8, s = 200)\n",
    "plt.subplots_adjust(-1,-1)\n",
    "plt.title(\"Projeção de UMAP-Lasso para espaço de features com separação KNN por paciente\")\n",
    "plt.savefig(\"./images/lasso_flair_mask_only_pseudo_etiologia_agregado.png\",bbox_inches = \"tight\", dpi = 50)"
   ]
  },
  {
   "cell_type": "code",
   "execution_count": null,
   "id": "4a110f99-3fa8-4584-8f18-3f632c3bab33",
   "metadata": {},
   "outputs": [],
   "source": [
    "d = (\n",
    "    id_df\n",
    "    #.query(\"has_mask == True\")\n",
    "    .groupby(\"id\").apply(agg_fu)\n",
    ")"
   ]
  },
  {
   "cell_type": "code",
   "execution_count": null,
   "id": "8dc441be-f9f2-4009-afa2-a0da8981d187",
   "metadata": {},
   "outputs": [],
   "source": [
    "d[\"pseudo_etiologia\"] = \"isquemica\"\n",
    "d.loc[d[\"knn_proba\"] < 0.25, \"pseudo_etiologia\"] = \"desmielinizante\""
   ]
  },
  {
   "cell_type": "code",
   "execution_count": null,
   "id": "60b05e75-f0d6-4995-86a2-d9e7ba7a537e",
   "metadata": {},
   "outputs": [],
   "source": [
    "sns.scatterplot(x = d[\"lasso0\"], y = d[\"lasso1\"], hue = d[\"label\"], style = d[\"pseudo_etiologia\"], alpha = 0.8, s = 200)\n",
    "plt.subplots_adjust(-1,-1)\n",
    "plt.title(\"Projeção de UMAP-Lasso para espaço de features com separação KNN por paciente\")\n",
    "plt.savefig(\"./images/lasso_flair_pseudo_etiologia_agregado.png\",bbox_inches = \"tight\", dpi = 50)"
   ]
  },
  {
   "cell_type": "code",
   "execution_count": null,
   "id": "e44aff0a-5429-48b9-8db1-0694b33061ff",
   "metadata": {},
   "outputs": [],
   "source": [
    "id_df = id_df.merge(d[[\"pseudo_etiologia\"]].rename(columns = {'pseudo_etiologia':\"pseudo_etiologia_agg\"}), left_on = \"id\", right_index = True, how = \"left\")"
   ]
  },
  {
   "cell_type": "markdown",
   "id": "ed2ba29b-9633-4e26-9f29-a15c184f1b84",
   "metadata": {
    "tags": []
   },
   "source": [
    "# Análise Qualitativa"
   ]
  },
  {
   "cell_type": "code",
   "execution_count": null,
   "id": "045c1f49-2dce-4b14-89b6-c25d05f924a9",
   "metadata": {},
   "outputs": [],
   "source": [
    "import math\n",
    "def ceildiv(a, b):\n",
    "    return -(a // -b)"
   ]
  },
  {
   "cell_type": "code",
   "execution_count": null,
   "id": "2013cffb-c11e-4104-9842-e08f64526be6",
   "metadata": {},
   "outputs": [],
   "source": [
    "impath = \"../Train/AVC/047_FLAIR17.bmp\"\n",
    "mskpath = \"../Train/AVC/047_FLAIR17_mask*\"\n",
    "\n",
    "def plot_masked_image(ax, impath, mskpath, alpha = 0.8):\n",
    "    mskpath = glob.glob(mskpath)[0]\n",
    "\n",
    "    im = np.array(Image.open(impath))\n",
    "    msk = np.array(Image.open(mskpath))\n",
    "    msk = (msk - msk.min())/(msk.max()-msk.min())*255\n",
    "\n",
    "    ax.imshow(msk, cmap = \"gray\")\n",
    "    ax.imshow(im, cmap = \"gray\", alpha = alpha)\n",
    "    ax.axis(\"off\")\n",
    "    return ax\n",
    "\n",
    "def plot_df_images(df, width = 4, alpha = 0.8):\n",
    "    size = len(df)\n",
    "    height = ceildiv(size,width)\n",
    "    fig, axs = plt.subplots(width,height, gridspec_kw={'wspace':0, 'hspace':0},\n",
    "                           squeeze=True)\n",
    "    print(width,height)\n",
    "    for i in range(size):\n",
    "        impath = df.iloc[i][\"image_path\"]\n",
    "        mskpath = df.iloc[i][\"mask_path\"]\n",
    "        if axs.ndim > 1:\n",
    "            axs[i%width,i//width] = plot_masked_image(axs[i%width,i//width], impath, mskpath, alpha = alpha)\n",
    "        else:\n",
    "            axs[i%width] = plot_masked_image(axs[i%width], impath, mskpath, alpha = alpha)\n",
    "    \n",
    "    return fig\n",
    "\n",
    "\n",
    "def plot_images_from_df(df, **kwargs):\n",
    "    images = []\n",
    "    for path in df[\"image_path\"]:\n",
    "        im = np.array(Image.open(path))\n",
    "        im = (im - im.min())/(im.max()-im.min())*255\n",
    "        images.append(im)\n",
    "    \n",
    "    return snsi.ImageGrid(images, **kwargs)\n",
    "    "
   ]
  },
  {
   "cell_type": "code",
   "execution_count": null,
   "id": "e80b54a7-5fb5-4efa-acd1-c9d92192872c",
   "metadata": {},
   "outputs": [],
   "source": [
    "import seaborn_image as snsi"
   ]
  },
  {
   "cell_type": "code",
   "execution_count": null,
   "id": "943162db-bdd1-45fa-971e-eac4f78e0f7d",
   "metadata": {},
   "outputs": [],
   "source": [
    "id_df['pseudo_etiologia_agg'].unique()"
   ]
  },
  {
   "cell_type": "code",
   "execution_count": null,
   "id": "de24ee86-d19a-440e-b435-ccf7d3b1b0b3",
   "metadata": {},
   "outputs": [],
   "source": [
    "flair = 17\n",
    "pseudo_etiologia = \"desmielinizante\"\n",
    "proximo_de_desmielinizante = False # quanto maior a probabilidade mais perto de isquemico\n",
    "\n",
    "proximidade_str = \"tendendo a dismeilinizante\" if proximo_de_desmielinizante else \"tendendo a isquemico\"\n",
    "fig = (\n",
    "    plot_images_from_df(\n",
    "        id_df.query(f\"label != 'EM' and has_mask == True and flair == {flair} and pseudo_etiologia_agg == '{pseudo_etiologia}'\")\n",
    "        .sort_values(by = \"knn_proba\", ascending = proximo_de_desmielinizante)\n",
    "        .iloc[:9],\n",
    "        cmap = \"gray\"\n",
    "    )\n",
    ")\n",
    "\n",
    "fig.fig.suptitle(\n",
    "    f\" Imagens de flair {flair}, de pseudo-etiologia {pseudo_etiologia}, {proximidade_str}\",\n",
    "    fontsize = 14\n",
    ")\n",
    "\n",
    "plt.savefig(\n",
    "    f\"./images/imagens_flair{flair}_{pseudo_etiologia}_{proximidade_str.replace(' ','_')}\",\n",
    "    bbox_inches = \"tight\",\n",
    "    dpi = 50\n",
    ")"
   ]
  },
  {
   "cell_type": "code",
   "execution_count": null,
   "id": "7865a414-a366-40bf-9baf-9e8b49fdd5dc",
   "metadata": {},
   "outputs": [],
   "source": [
    "flair = 17\n",
    "pseudo_etiologia = \"isquemica\"\n",
    "proximo_de_desmielinizante = False # quanto maior a probabilidade mais perto de isquemico\n",
    "\n",
    "proximidade_str = \"tendendo a dismeilinizante\" if proximo_de_desmielinizante else \"tendendo a isquemico\"\n",
    "fig = (\n",
    "    plot_images_from_df(\n",
    "        id_df.query(f\"label != 'EM' and has_mask == True and flair == {flair} and pseudo_etiologia_agg == '{pseudo_etiologia}'\")\n",
    "        .sort_values(by = \"knn_proba\", ascending = proximo_de_desmielinizante)\n",
    "        .iloc[:9],\n",
    "        cmap = \"gray\"\n",
    "    )\n",
    ")\n",
    "\n",
    "fig.fig.suptitle(\n",
    "    f\" Imagens de flair {flair}, de pseudo-etiologia {pseudo_etiologia}, {proximidade_str}\",\n",
    "    fontsize = 14\n",
    ")\n",
    "\n",
    "plt.savefig(\n",
    "    f\"./images/imagens_flair{flair}_{pseudo_etiologia}_{proximidade_str.replace(' ','_')}\",\n",
    "    bbox_inches = \"tight\",\n",
    "    dpi = 50\n",
    ")"
   ]
  },
  {
   "cell_type": "code",
   "execution_count": null,
   "id": "804e98f6-da0f-4f3f-8f09-b3f62e8a56ed",
   "metadata": {},
   "outputs": [],
   "source": [
    "flair = 17\n",
    "pseudo_etiologia = \"desmielinizante\"\n",
    "proximo_de_desmielinizante = True # quanto maior a probabilidade mais perto de isquemico\n",
    "\n",
    "proximidade_str = \"tendendo a dismeilinizante\" if proximo_de_desmielinizante else \"tendendo a isquemico\"\n",
    "fig = (\n",
    "    plot_images_from_df(\n",
    "        id_df.query(f\"label != 'EM' and has_mask == True and flair == {flair} and pseudo_etiologia_agg == '{pseudo_etiologia}'\")\n",
    "        .sort_values(by = \"knn_proba\", ascending = proximo_de_desmielinizante)\n",
    "        .iloc[:9],\n",
    "        cmap = \"gray\"\n",
    "    )\n",
    ")\n",
    "\n",
    "fig.fig.suptitle(\n",
    "    f\" Imagens de flair {flair}, de pseudo-etiologia {pseudo_etiologia}, {proximidade_str}\",\n",
    "    fontsize = 14\n",
    ")\n",
    "\n",
    "plt.savefig(\n",
    "    f\"./images/imagens_flair{flair}_{pseudo_etiologia}_{proximidade_str.replace(' ','_')}\",\n",
    "    bbox_inches = \"tight\",\n",
    "    dpi = 50\n",
    ")"
   ]
  },
  {
   "cell_type": "code",
   "execution_count": null,
   "id": "13afd6b0-8711-466f-a8c7-393646c18716",
   "metadata": {},
   "outputs": [],
   "source": [
    "flair = 17\n",
    "pseudo_etiologia = \"isquemica\"\n",
    "proximo_de_desmielinizante = True # quanto maior a probabilidade mais perto de isquemico\n",
    "\n",
    "proximidade_str = \"tendendo a dismeilinizante\" if proximo_de_desmielinizante else \"tendendo a isquemico\"\n",
    "fig = (\n",
    "    plot_images_from_df(\n",
    "        id_df.query(f\"label != 'EM' and has_mask == True and flair == {flair} and pseudo_etiologia_agg == '{pseudo_etiologia}'\")\n",
    "        .sort_values(by = \"knn_proba\", ascending = proximo_de_desmielinizante)\n",
    "        .iloc[:9],\n",
    "        cmap = \"gray\"\n",
    "    )\n",
    ")\n",
    "\n",
    "fig.fig.suptitle(\n",
    "    f\" Imagens de flair {flair}, de pseudo-etiologia {pseudo_etiologia}, {proximidade_str}\",\n",
    "    fontsize = 14\n",
    ")\n",
    "\n",
    "plt.savefig(\n",
    "    f\"./images/imagens_flair{flair}_{pseudo_etiologia}_{proximidade_str.replace(' ','_')}\",\n",
    "    bbox_inches = \"tight\",\n",
    "    dpi = 50\n",
    ")"
   ]
  },
  {
   "cell_type": "markdown",
   "id": "665789fc-1563-48be-9f1e-2df097dec659",
   "metadata": {},
   "source": [
    "## Plots"
   ]
  },
  {
   "cell_type": "code",
   "execution_count": null,
   "id": "cf172b8a-bc5c-42c4-9479-bdde1cd42181",
   "metadata": {},
   "outputs": [],
   "source": [
    "# import plotly.graph_objs as go\n",
    "# import plotly.offline as py\n",
    "\n",
    "# import pandas as pd\n",
    "# import numpy as np\n",
    "# from ipywidgets import interactive, HBox, VBox\n",
    "\n",
    "# py.init_notebook_mode()\n",
    "\n",
    "# df = pd.read_csv('https://raw.githubusercontent.com/jonmmease/plotly_ipywidget_notebooks/master/notebooks/data/cars/cars.csv')\n",
    "\n",
    "# f = go.FigureWidget([go.Scatter(y = df['City mpg'], x = df['City mpg'], mode = 'markers')])\n",
    "# scatter = f.data[0]\n",
    "# N = len(df)\n",
    "# scatter.x = scatter.x + np.random.rand(N)/10 *(df['City mpg'].max() - df['City mpg'].min())\n",
    "# scatter.y = scatter.y + np.random.rand(N)/10 *(df['City mpg'].max() - df['City mpg'].min())\n",
    "# scatter.marker.opacity = 0.5\n",
    "\n",
    "# # Create a table FigureWidget that updates on selection from points in the scatter plot of f\n",
    "# im_kwargs = dict(\n",
    "#     facet_col=0,\n",
    "#     binary_string=True,\n",
    "#     facet_col_wrap=5,\n",
    "#     height=800,\n",
    "#     width=1200,\n",
    "#     facet_col_spacing=0,\n",
    "#     facet_row_spacing=0,\n",
    "# )\n",
    "# t = px.imshow(\n",
    "#     images_train[:20],\n",
    "#     **im_kwargs,\n",
    "#     )\n",
    "\n",
    "# t  = go.FigureWidget(t)\n",
    "# import matplotlib.pyplot as plt\n",
    "# import seaborn as sns\n",
    "\n",
    "# def selection_fn(trace,points,selector):\n",
    "#     with t.batch_update():\n",
    "#         idxs = np.random.choice(range(100),size = 20, replace = False)\n",
    "#         #new = go.FigureWidget(imshow(images_train[idxs]))       \n",
    "#         kws = {**im_kwargs, **{\"height\":300*ceildiv(len(idxs),5)}}\n",
    "#         new = go.FigureWidget(px.imshow(images_train[idxs], **kws))\n",
    "#         t.update({'data':new.data,'layout':new.layout,\"frames\":new.frames}, overwrite = True)\n",
    "#         #for i in range(len(t.data)):    \n",
    "#         #    t.data[i] = data[i]\n",
    "\n",
    "# scatter.on_selection(selection_fn)\n",
    "\n",
    "# # Put everything together\n",
    "# VBox((f,t))\n"
   ]
  },
  {
   "cell_type": "code",
   "execution_count": null,
   "id": "517cdf85-4f06-46a8-85a7-d8c787358cf6",
   "metadata": {},
   "outputs": [],
   "source": []
  }
 ],
 "metadata": {
  "kernelspec": {
   "display_name": "Python 3 (ipykernel)",
   "language": "python",
   "name": "python3"
  },
  "language_info": {
   "codemirror_mode": {
    "name": "ipython",
    "version": 3
   },
   "file_extension": ".py",
   "mimetype": "text/x-python",
   "name": "python",
   "nbconvert_exporter": "python",
   "pygments_lexer": "ipython3",
   "version": "3.8.10"
  }
 },
 "nbformat": 4,
 "nbformat_minor": 5
}
